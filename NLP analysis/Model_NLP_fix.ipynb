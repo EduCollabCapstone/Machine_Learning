{
  "nbformat": 4,
  "nbformat_minor": 0,
  "metadata": {
    "colab": {
      "provenance": []
    },
    "kernelspec": {
      "name": "python3",
      "display_name": "Python 3"
    },
    "language_info": {
      "name": "python"
    }
  },
  "cells": [
    {
      "cell_type": "markdown",
      "source": [
        "### Import Library"
      ],
      "metadata": {
        "id": "v2AgPINyk2xy"
      }
    },
    {
      "cell_type": "code",
      "source": [
        "import pandas as pd\n",
        "import numpy as np\n",
        "import nltk\n",
        "from nltk.corpus import stopwords\n",
        "from tensorflow.keras.models import Sequential\n",
        "from tensorflow.keras.layers import Embedding, LSTM, Dense, Dropout\n",
        "from tensorflow.keras.preprocessing.text import Tokenizer\n",
        "from tensorflow.keras.preprocessing.sequence import pad_sequences\n",
        "from tensorflow.keras.utils import to_categorical\n",
        "from tensorflow.keras.optimizers import Adam\n",
        "from sklearn.model_selection import train_test_split\n",
        "from tensorflow.keras.models import load_model"
      ],
      "metadata": {
        "id": "_N15MgzIvyZ6"
      },
      "execution_count": null,
      "outputs": []
    },
    {
      "cell_type": "markdown",
      "source": [
        "### Set stopwords"
      ],
      "metadata": {
        "id": "7Qacv1Vcv2up"
      }
    },
    {
      "cell_type": "code",
      "source": [
        "# Download stopwords list (only once)\n",
        "nltk.download('stopwords')\n",
        "\n",
        "# Getting Indonesian stopwords from NLTK\n",
        "stop_words = set(stopwords.words('indonesian'))"
      ],
      "metadata": {
        "colab": {
          "base_uri": "https://localhost:8080/"
        },
        "id": "IDLqX5Zav4r0",
        "outputId": "e546f5cd-7cf6-447a-d604-74e5a013d3e7"
      },
      "execution_count": null,
      "outputs": [
        {
          "output_type": "stream",
          "name": "stderr",
          "text": [
            "[nltk_data] Downloading package stopwords to /root/nltk_data...\n",
            "[nltk_data]   Package stopwords is already up-to-date!\n"
          ]
        }
      ]
    },
    {
      "cell_type": "markdown",
      "source": [
        "### Memuat Dataset"
      ],
      "metadata": {
        "id": "AEU-3o_noZr1"
      }
    },
    {
      "cell_type": "code",
      "source": [
        "# Loading dataset from CSV file\n",
        "data = pd.read_csv('/content/teacher_reviews_student_performance.csv')\n",
        "\n",
        "# Display multiple rows of data to ensure formatting\n",
        "print(data.head())"
      ],
      "metadata": {
        "colab": {
          "base_uri": "https://localhost:8080/"
        },
        "id": "n-Vq7BkTwMrr",
        "outputId": "1a132589-ff17-4282-f3cd-d115d4b93191"
      },
      "execution_count": null,
      "outputs": [
        {
          "output_type": "stream",
          "name": "stdout",
          "text": [
            "                                           Sentiment    Label\n",
            "0  Siswa ini menunjukkan peningkatan yang luar bi...  positif\n",
            "1  Kerja kerasnya membuahkan hasil yang sangat ba...  positif\n",
            "2  Ia selalu aktif bertanya di kelas dan menunjuk...  positif\n",
            "3  Presentasinya sangat terstruktur dan penuh per...  positif\n",
            "4  Tugas yang dikerjakan menunjukkan pemahaman ya...  positif\n"
          ]
        }
      ]
    },
    {
      "cell_type": "markdown",
      "source": [
        "### Hapus stopwords"
      ],
      "metadata": {
        "id": "OSgbjUwAwgs6"
      }
    },
    {
      "cell_type": "markdown",
      "source": [
        "StopWord Removal"
      ],
      "metadata": {
        "id": "pGTGNaQg2CBO"
      }
    },
    {
      "cell_type": "code",
      "source": [
        "# Function to remove stopwords from Sentiment\n",
        "def hapus_stopwords(Sentiment):\n",
        "    kata_kata = Sentiment.split()  # Breaking Sentiments into words\n",
        "    kata_kata_tanpa_stopwords = [kata for kata in kata_kata if kata.lower() not in stop_words]  # Removing stopwords\n",
        "    return ' '.join(kata_kata_tanpa_stopwords)  # Recombine the remaining words\n",
        "\n",
        "# Remove stopwords from each line of Sentiment\n",
        "data['Sentiment'] = data['Sentiment'].apply(hapus_stopwords)"
      ],
      "metadata": {
        "id": "TrAXplTRwfdm"
      },
      "execution_count": null,
      "outputs": []
    },
    {
      "cell_type": "code",
      "source": [
        "print(data.head())"
      ],
      "metadata": {
        "colab": {
          "base_uri": "https://localhost:8080/"
        },
        "id": "YLohq-U71mGf",
        "outputId": "3881d387-15bf-4d7c-efb8-20e274ab7e94"
      },
      "execution_count": null,
      "outputs": [
        {
          "output_type": "stream",
          "name": "stdout",
          "text": [
            "                                         Sentiment    Label\n",
            "0                    Siswa peningkatan matematika.  positif\n",
            "1  Kerja kerasnya membuahkan hasil ujian terakhir.  positif\n",
            "2                                      aktif kelas  positif\n",
            "3    Presentasinya terstruktur penuh percaya diri.  positif\n",
            "4                 Tugas pemahaman mendalam materi.  positif\n"
          ]
        }
      ]
    },
    {
      "cell_type": "markdown",
      "source": [
        "Lowercasing"
      ],
      "metadata": {
        "id": "gNVhV34b2IEw"
      }
    },
    {
      "cell_type": "code",
      "source": [
        "# Lowercase the 'Sentiment' column\n",
        "data['Sentiment'] = data['Sentiment'].str.lower()\n",
        "print(data.head())"
      ],
      "metadata": {
        "colab": {
          "base_uri": "https://localhost:8080/"
        },
        "id": "XdM3hpwa1rD7",
        "outputId": "5ddff303-8e1b-4109-e7d0-df939b2bcd91"
      },
      "execution_count": null,
      "outputs": [
        {
          "output_type": "stream",
          "name": "stdout",
          "text": [
            "                                         Sentiment    Label\n",
            "0                    siswa peningkatan matematika.  positif\n",
            "1  kerja kerasnya membuahkan hasil ujian terakhir.  positif\n",
            "2                                      aktif kelas  positif\n",
            "3    presentasinya terstruktur penuh percaya diri.  positif\n",
            "4                 tugas pemahaman mendalam materi.  positif\n"
          ]
        }
      ]
    },
    {
      "cell_type": "markdown",
      "source": [
        "Punctuation Removal"
      ],
      "metadata": {
        "id": "o9ioOrpu2LHc"
      }
    },
    {
      "cell_type": "code",
      "source": [
        "import re\n",
        "\n",
        "def clean_text(text):\n",
        "    # Remove punctuation and special characters\n",
        "    text = re.sub(r'[^\\w\\s]', '', text)\n",
        "    # Remove extra whitespace\n",
        "    text = re.sub(r'\\s+', ' ', text).strip()\n",
        "    return text\n",
        "\n",
        "# Apply the cleaning function to the 'Sentiment' column\n",
        "data['Sentiment'] = data['Sentiment'].apply(clean_text)\n",
        "print(data.head())"
      ],
      "metadata": {
        "colab": {
          "base_uri": "https://localhost:8080/"
        },
        "id": "qcglwN6jzkfk",
        "outputId": "4fe90112-4a06-4a41-9349-7e99981bc65f"
      },
      "execution_count": null,
      "outputs": [
        {
          "output_type": "stream",
          "name": "stdout",
          "text": [
            "                                        Sentiment    Label\n",
            "0                    siswa peningkatan matematika  positif\n",
            "1  kerja kerasnya membuahkan hasil ujian terakhir  positif\n",
            "2                                     aktif kelas  positif\n",
            "3    presentasinya terstruktur penuh percaya diri  positif\n",
            "4                 tugas pemahaman mendalam materi  positif\n"
          ]
        }
      ]
    },
    {
      "cell_type": "markdown",
      "source": [],
      "metadata": {
        "id": "eciPZXHVHuza"
      }
    },
    {
      "cell_type": "markdown",
      "source": [
        "### Tokenize & Padding"
      ],
      "metadata": {
        "id": "u_Ay0mtNprtO"
      }
    },
    {
      "cell_type": "code",
      "source": [
        "from sklearn.model_selection import train_test_split\n",
        "\n",
        "# Assuming 'Sentiment' column contains text data and 'Performance' contains labels\n",
        "sentences = data['Sentiment'].values\n",
        "labels = data['Label'].values\n",
        "\n",
        "# Split the data into training and validation sets\n",
        "train_sentences, validation_sentences, train_labels, validation_labels = train_test_split(\n",
        "    sentences, labels, test_size=0.2, random_state=42\n",
        ")"
      ],
      "metadata": {
        "id": "ZEk365viII0w"
      },
      "execution_count": null,
      "outputs": []
    },
    {
      "cell_type": "code",
      "source": [
        "print(\"Train Sentences (first 5):\")\n",
        "print(train_sentences[:5])\n",
        "print(\"\\nTrain Labels (first 5):\")\n",
        "print(train_labels[:5])\n",
        "\n",
        "print(\"\\nValidation Sentences (first 5):\")\n",
        "print(validation_sentences[:5])\n",
        "print(\"\\nValidation Labels (first 5):\")\n",
        "print(validation_labels[:5])"
      ],
      "metadata": {
        "colab": {
          "base_uri": "https://localhost:8080/"
        },
        "id": "OWNrvh5TIeaO",
        "outputId": "44469126-920e-4295-b081-88c3cf5053e7"
      },
      "execution_count": null,
      "outputs": [
        {
          "output_type": "stream",
          "name": "stdout",
          "text": [
            "Train Sentences (first 5):\n",
            "['tugas usaha maksimal coba berhatihati pengerjaannya'\n",
            " 'berhasil solusi brilian ini'\n",
            " 'tugas terburuburu perhatikan kualitasnya teliti'\n",
            " 'mengandalkan bantuan orang lain merugikanmu depan'\n",
            " 'peduli tugas kelompok mengecewakan']\n",
            "\n",
            "Train Labels (first 5):\n",
            "['negatif' 'positif' 'negatif' 'negatif' 'negatif']\n",
            "\n",
            "Validation Sentences (first 5):\n",
            "['pekerjaanmu kali memuaskan benarbenar mengerjakannya penuh perhatian'\n",
            " 'tugas perhatian detail coba teliti soalsoalnya'\n",
            " 'sikapnya cenderung malas berdampak hasil akhirnya'\n",
            " 'tugas diperbaiki berlatih menghasilkan pekerjaan baik'\n",
            " 'saya serius tugas ini coba fokus']\n",
            "\n",
            "Validation Labels (first 5):\n",
            "['positif' 'negatif' 'negatif' 'negatif' 'negatif']\n"
          ]
        }
      ]
    },
    {
      "cell_type": "code",
      "source": [
        "import matplotlib.pyplot as plt\n",
        "import seaborn as sns\n",
        "\n",
        "# Assuming 'labels' contains the numerical labels (0 or 1)\n",
        "# Create a countplot of the labels\n",
        "plt.figure(figsize=(6, 4))\n",
        "sns.countplot(x=labels)\n",
        "plt.title('Distribution of Labels')\n",
        "plt.xlabel('Label')\n",
        "plt.ylabel('Count')\n",
        "plt.show()\n"
      ],
      "metadata": {
        "colab": {
          "base_uri": "https://localhost:8080/",
          "height": 410
        },
        "id": "mqhtR3dhIq-i",
        "outputId": "ccc0abb7-04b2-4ce2-8ac2-5b2a185d6510"
      },
      "execution_count": null,
      "outputs": [
        {
          "output_type": "display_data",
          "data": {
            "text/plain": [
              "<Figure size 600x400 with 1 Axes>"
            ],
            "image/png": "[encoded data removed]"
          },
          "metadata": {}
        }
      ]
    },
    {
      "cell_type": "code",
      "source": [
        "vocab_size = 1000  # Adjust as needed\n",
        "oov_tok = \"<OOV>\"\n",
        "padding_type = \"post\"\n",
        "max_length = 100  # Adjust as needed\n",
        "\n",
        "tokenizer = Tokenizer(num_words=vocab_size, oov_token=oov_tok)\n",
        "tokenizer.fit_on_texts(train_sentences)\n",
        "word_index = tokenizer.word_index\n",
        "\n",
        "train_sequences = tokenizer.texts_to_sequences(train_sentences)\n",
        "train_padded = pad_sequences(train_sequences, padding=padding_type, maxlen=max_length)\n",
        "\n",
        "validation_sequences = tokenizer.texts_to_sequences(validation_sentences)\n",
        "validation_padded = pad_sequences(validation_sequences, padding=padding_type, maxlen=max_length)\n",
        "\n",
        "print(\"Word Index (first 10):\", list(word_index.items())[:10])  # Print some word index examples\n",
        "print(\"Example training sequence:\", train_sequences[0]) # Print example training sequence\n",
        "print(\"Example padded training sequence:\", train_padded[0]) # Print example padded training sequence\n",
        "print(\"Shape of train_padded:\", train_padded.shape)\n",
        "print(\"Shape of validation_padded:\", validation_padded.shape)"
      ],
      "metadata": {
        "colab": {
          "base_uri": "https://localhost:8080/"
        },
        "id": "rmpKH_n6Nonm",
        "outputId": "436b425b-300f-4d57-a7c8-792383e06d09"
      },
      "execution_count": null,
      "outputs": [
        {
          "output_type": "stream",
          "name": "stdout",
          "text": [
            "Word Index (first 10): [('<OOV>', 1), ('tugas', 2), ('ini', 3), ('hasil', 4), ('baik', 5), ('belajar', 6), ('kali', 7), ('kamu', 8), ('coba', 9), ('fokus', 10)]\n",
            "Example training sequence: [2, 13, 38, 9, 50, 319]\n",
            "Example padded training sequence: [  2  13  38   9  50 319   0   0   0   0   0   0   0   0   0   0   0   0\n",
            "   0   0   0   0   0   0   0   0   0   0   0   0   0   0   0   0   0   0\n",
            "   0   0   0   0   0   0   0   0   0   0   0   0   0   0   0   0   0   0\n",
            "   0   0   0   0   0   0   0   0   0   0   0   0   0   0   0   0   0   0\n",
            "   0   0   0   0   0   0   0   0   0   0   0   0   0   0   0   0   0   0\n",
            "   0   0   0   0   0   0   0   0   0   0]\n",
            "Shape of train_padded: (8115, 100)\n",
            "Shape of validation_padded: (2029, 100)\n"
          ]
        }
      ]
    },
    {
      "cell_type": "code",
      "source": [
        "label_mapping = {'negatif': 0, 'positif': 1}\n",
        "train_labels_numerical = [label_mapping[label] for label in train_labels]\n",
        "validation_labels_numerical = [label_mapping[label] for label in validation_labels]"
      ],
      "metadata": {
        "id": "CD_BBu4yKp2C"
      },
      "execution_count": null,
      "outputs": []
    },
    {
      "cell_type": "code",
      "source": [
        "import pickle\n",
        "\n",
        "# Save the tokenizer\n",
        "with open('tokenizer.pkl', 'wb') as handle:\n",
        "    pickle.dump(tokenizer, handle, protocol=pickle.HIGHEST_PROTOCOL)\n",
        "\n",
        "# Download the tokenizer file\n",
        "from google.colab import files\n",
        "files.download('tokenizer.pkl')"
      ],
      "metadata": {
        "colab": {
          "base_uri": "https://localhost:8080/",
          "height": 17
        },
        "id": "zCvS6tYyQyLP",
        "outputId": "84579065-c35d-4dfd-ba04-027284248c17"
      },
      "execution_count": null,
      "outputs": [
        {
          "output_type": "display_data",
          "data": {
            "text/plain": [
              "<IPython.core.display.Javascript object>"
            ],
            "application/javascript": [
              "\n",
              "    async function download(id, filename, size) {\n",
              "      if (!google.colab.kernel.accessAllowed) {\n",
              "        return;\n",
              "      }\n",
              "      const div = document.createElement('div');\n",
              "      const label = document.createElement('label');\n",
              "      label.textContent = `Downloading \"${filename}\": `;\n",
              "      div.appendChild(label);\n",
              "      const progress = document.createElement('progress');\n",
              "      progress.max = size;\n",
              "      div.appendChild(progress);\n",
              "      document.body.appendChild(div);\n",
              "\n",
              "      const buffers = [];\n",
              "      let downloaded = 0;\n",
              "\n",
              "      const channel = await google.colab.kernel.comms.open(id);\n",
              "      // Send a message to notify the kernel that we're ready.\n",
              "      channel.send({})\n",
              "\n",
              "      for await (const message of channel.messages) {\n",
              "        // Send a message to notify the kernel that we're ready.\n",
              "        channel.send({})\n",
              "        if (message.buffers) {\n",
              "          for (const buffer of message.buffers) {\n",
              "            buffers.push(buffer);\n",
              "            downloaded += buffer.byteLength;\n",
              "            progress.value = downloaded;\n",
              "          }\n",
              "        }\n",
              "      }\n",
              "      const blob = new Blob(buffers, {type: 'application/binary'});\n",
              "      const a = document.createElement('a');\n",
              "      a.href = window.URL.createObjectURL(blob);\n",
              "      a.download = filename;\n",
              "      div.appendChild(a);\n",
              "      a.click();\n",
              "      div.remove();\n",
              "    }\n",
              "  "
            ]
          },
          "metadata": {}
        },
        {
          "output_type": "display_data",
          "data": {
            "text/plain": [
              "<IPython.core.display.Javascript object>"
            ],
            "application/javascript": [
              "download(\"download_7d8970ce-6874-45a4-90e2-0fc15c3dc06c\", \"tokenizer.pkl\", 56698)"
            ]
          },
          "metadata": {}
        }
      ]
    },
    {
      "cell_type": "markdown",
      "source": [
        "### Train Model"
      ],
      "metadata": {
        "id": "uJLXQjgyqhI_"
      }
    },
    {
      "cell_type": "code",
      "source": [
        "from tensorflow.keras import models, layers, optimizers\n",
        "import tensorflow as tf\n",
        "\n",
        "embedding_dim = 16 # Adjust as needed\n",
        "\n",
        "model = models.Sequential([\n",
        "    layers.Embedding(vocab_size, embedding_dim, input_length=max_length),\n",
        "    layers.GlobalAveragePooling1D(),\n",
        "    layers.Dense(24, activation='relu'),\n",
        "    layers.Dense(1, activation='sigmoid') # Output layer with sigmoid for binary classification\n",
        "])\n",
        "\n",
        "model.compile(loss='binary_crossentropy', # Use binary_crossentropy for binary classification\n",
        "              optimizer=optimizers.Adam(),\n",
        "              metrics=['accuracy'])\n",
        "\n",
        "model.summary()"
      ],
      "metadata": {
        "colab": {
          "base_uri": "https://localhost:8080/",
          "height": 308
        },
        "id": "IJjPLCvLNjIZ",
        "outputId": "e2a646f5-ad70-4fbf-9f5d-f1c5bf3e9970"
      },
      "execution_count": null,
      "outputs": [
        {
          "output_type": "stream",
          "name": "stderr",
          "text": [
            "/usr/local/lib/python3.10/dist-packages/keras/src/layers/core/embedding.py:90: UserWarning: Argument `input_length` is deprecated. Just remove it.\n",
            "  warnings.warn(\n"
          ]
        },
        {
          "output_type": "display_data",
          "data": {
            "text/plain": [
              "\u001b[1mModel: \"sequential\"\u001b[0m\n"
            ],
            "text/html": [
              "<pre style=\"white-space:pre;overflow-x:auto;line-height:normal;font-family:Menlo,'DejaVu Sans Mono',consolas,'Courier New',monospace\"><span style=\"font-weight: bold\">Model: \"sequential\"</span>\n",
              "</pre>\n"
            ]
          },
          "metadata": {}
        },
        {
          "output_type": "display_data",
          "data": {
            "text/plain": [
              "┏━━━━━━━━━━━━━━━━━━━━━━━━━━━━━━━━━━━━━━┳━━━━━━━━━━━━━━━━━━━━━━━━━━━━━┳━━━━━━━━━━━━━━━━━┓\n",
              "┃\u001b[1m \u001b[0m\u001b[1mLayer (type)                        \u001b[0m\u001b[1m \u001b[0m┃\u001b[1m \u001b[0m\u001b[1mOutput Shape               \u001b[0m\u001b[1m \u001b[0m┃\u001b[1m \u001b[0m\u001b[1m        Param #\u001b[0m\u001b[1m \u001b[0m┃\n",
              "┡━━━━━━━━━━━━━━━━━━━━━━━━━━━━━━━━━━━━━━╇━━━━━━━━━━━━━━━━━━━━━━━━━━━━━╇━━━━━━━━━━━━━━━━━┩\n",
              "│ embedding (\u001b[38;5;33mEmbedding\u001b[0m)                │ ?                           │     \u001b[38;5;34m0\u001b[0m (unbuilt) │\n",
              "├──────────────────────────────────────┼─────────────────────────────┼─────────────────┤\n",
              "│ global_average_pooling1d             │ ?                           │     \u001b[38;5;34m0\u001b[0m (unbuilt) │\n",
              "│ (\u001b[38;5;33mGlobalAveragePooling1D\u001b[0m)             │                             │                 │\n",
              "├──────────────────────────────────────┼─────────────────────────────┼─────────────────┤\n",
              "│ dense (\u001b[38;5;33mDense\u001b[0m)                        │ ?                           │     \u001b[38;5;34m0\u001b[0m (unbuilt) │\n",
              "├──────────────────────────────────────┼─────────────────────────────┼─────────────────┤\n",
              "│ dense_1 (\u001b[38;5;33mDense\u001b[0m)                      │ ?                           │     \u001b[38;5;34m0\u001b[0m (unbuilt) │\n",
              "└──────────────────────────────────────┴─────────────────────────────┴─────────────────┘\n"
            ],
            "text/html": [
              "<pre style=\"white-space:pre;overflow-x:auto;line-height:normal;font-family:Menlo,'DejaVu Sans Mono',consolas,'Courier New',monospace\">┏━━━━━━━━━━━━━━━━━━━━━━━━━━━━━━━━━━━━━━┳━━━━━━━━━━━━━━━━━━━━━━━━━━━━━┳━━━━━━━━━━━━━━━━━┓\n",
              "┃<span style=\"font-weight: bold\"> Layer (type)                         </span>┃<span style=\"font-weight: bold\"> Output Shape                </span>┃<span style=\"font-weight: bold\">         Param # </span>┃\n",
              "┡━━━━━━━━━━━━━━━━━━━━━━━━━━━━━━━━━━━━━━╇━━━━━━━━━━━━━━━━━━━━━━━━━━━━━╇━━━━━━━━━━━━━━━━━┩\n",
              "│ embedding (<span style=\"color: #0087ff; text-decoration-color: #0087ff\">Embedding</span>)                │ ?                           │     <span style=\"color: #00af00; text-decoration-color: #00af00\">0</span> (unbuilt) │\n",
              "├──────────────────────────────────────┼─────────────────────────────┼─────────────────┤\n",
              "│ global_average_pooling1d             │ ?                           │     <span style=\"color: #00af00; text-decoration-color: #00af00\">0</span> (unbuilt) │\n",
              "│ (<span style=\"color: #0087ff; text-decoration-color: #0087ff\">GlobalAveragePooling1D</span>)             │                             │                 │\n",
              "├──────────────────────────────────────┼─────────────────────────────┼─────────────────┤\n",
              "│ dense (<span style=\"color: #0087ff; text-decoration-color: #0087ff\">Dense</span>)                        │ ?                           │     <span style=\"color: #00af00; text-decoration-color: #00af00\">0</span> (unbuilt) │\n",
              "├──────────────────────────────────────┼─────────────────────────────┼─────────────────┤\n",
              "│ dense_1 (<span style=\"color: #0087ff; text-decoration-color: #0087ff\">Dense</span>)                      │ ?                           │     <span style=\"color: #00af00; text-decoration-color: #00af00\">0</span> (unbuilt) │\n",
              "└──────────────────────────────────────┴─────────────────────────────┴─────────────────┘\n",
              "</pre>\n"
            ]
          },
          "metadata": {}
        },
        {
          "output_type": "display_data",
          "data": {
            "text/plain": [
              "\u001b[1m Total params: \u001b[0m\u001b[38;5;34m0\u001b[0m (0.00 B)\n"
            ],
            "text/html": [
              "<pre style=\"white-space:pre;overflow-x:auto;line-height:normal;font-family:Menlo,'DejaVu Sans Mono',consolas,'Courier New',monospace\"><span style=\"font-weight: bold\"> Total params: </span><span style=\"color: #00af00; text-decoration-color: #00af00\">0</span> (0.00 B)\n",
              "</pre>\n"
            ]
          },
          "metadata": {}
        },
        {
          "output_type": "display_data",
          "data": {
            "text/plain": [
              "\u001b[1m Trainable params: \u001b[0m\u001b[38;5;34m0\u001b[0m (0.00 B)\n"
            ],
            "text/html": [
              "<pre style=\"white-space:pre;overflow-x:auto;line-height:normal;font-family:Menlo,'DejaVu Sans Mono',consolas,'Courier New',monospace\"><span style=\"font-weight: bold\"> Trainable params: </span><span style=\"color: #00af00; text-decoration-color: #00af00\">0</span> (0.00 B)\n",
              "</pre>\n"
            ]
          },
          "metadata": {}
        },
        {
          "output_type": "display_data",
          "data": {
            "text/plain": [
              "\u001b[1m Non-trainable params: \u001b[0m\u001b[38;5;34m0\u001b[0m (0.00 B)\n"
            ],
            "text/html": [
              "<pre style=\"white-space:pre;overflow-x:auto;line-height:normal;font-family:Menlo,'DejaVu Sans Mono',consolas,'Courier New',monospace\"><span style=\"font-weight: bold\"> Non-trainable params: </span><span style=\"color: #00af00; text-decoration-color: #00af00\">0</span> (0.00 B)\n",
              "</pre>\n"
            ]
          },
          "metadata": {}
        }
      ]
    },
    {
      "cell_type": "markdown",
      "source": [
        "### Evaluate Model"
      ],
      "metadata": {
        "id": "FEtlz4xPqmjJ"
      }
    },
    {
      "cell_type": "code",
      "source": [
        "# Define early stopping callback\n",
        "early_stopping = tf.keras.callbacks.EarlyStopping(\n",
        "    monitor='val_loss',  # Monitor validation loss\n",
        "    patience=3,          # Number of epochs with no improvement after which training will be stopped\n",
        "    restore_best_weights=True # Restore model weights from the epoch with the best value of the monitored quantity\n",
        ")\n",
        "\n",
        "import numpy as np\n",
        "\n",
        "# Train the model with the early stopping callback\n",
        "num_epochs = 55  # You can adjust the number of epochs\n",
        "history = model.fit(\n",
        "    train_padded,\n",
        "    np.array(train_labels_numerical), # Convert train_labels_numerical to a NumPy array\n",
        "    epochs=num_epochs,\n",
        "    validation_data=(validation_padded, np.array(validation_labels_numerical)), # Convert validation_labels_numerical to a NumPy array\n",
        "    # callbacks=[early_stopping] # Add the early stopping callback\n",
        ")"
      ],
      "metadata": {
        "colab": {
          "base_uri": "https://localhost:8080/"
        },
        "id": "Ma0o3AR9LIZr",
        "outputId": "7d8b3aa7-182a-47c6-a6c4-b2fd04179f48"
      },
      "execution_count": null,
      "outputs": [
        {
          "output_type": "stream",
          "name": "stdout",
          "text": [
            "Epoch 1/55\n",
            "\u001b[1m254/254\u001b[0m \u001b[32m━━━━━━━━━━━━━━━━━━━━\u001b[0m\u001b[37m\u001b[0m \u001b[1m3s\u001b[0m 6ms/step - accuracy: 0.5403 - loss: 0.6911 - val_accuracy: 0.7772 - val_loss: 0.6665\n",
            "Epoch 2/55\n",
            "\u001b[1m254/254\u001b[0m \u001b[32m━━━━━━━━━━━━━━━━━━━━\u001b[0m\u001b[37m\u001b[0m \u001b[1m1s\u001b[0m 4ms/step - accuracy: 0.7111 - loss: 0.6406 - val_accuracy: 0.9054 - val_loss: 0.5119\n",
            "Epoch 3/55\n",
            "\u001b[1m254/254\u001b[0m \u001b[32m━━━━━━━━━━━━━━━━━━━━\u001b[0m\u001b[37m\u001b[0m \u001b[1m1s\u001b[0m 3ms/step - accuracy: 0.8408 - loss: 0.4673 - val_accuracy: 0.9197 - val_loss: 0.3111\n",
            "Epoch 4/55\n",
            "\u001b[1m254/254\u001b[0m \u001b[32m━━━━━━━━━━━━━━━━━━━━\u001b[0m\u001b[37m\u001b[0m \u001b[1m1s\u001b[0m 3ms/step - accuracy: 0.9222 - loss: 0.2802 - val_accuracy: 0.9280 - val_loss: 0.2187\n",
            "Epoch 5/55\n",
            "\u001b[1m254/254\u001b[0m \u001b[32m━━━━━━━━━━━━━━━━━━━━\u001b[0m\u001b[37m\u001b[0m \u001b[1m1s\u001b[0m 3ms/step - accuracy: 0.9247 - loss: 0.2205 - val_accuracy: 0.9394 - val_loss: 0.1768\n",
            "Epoch 6/55\n",
            "\u001b[1m254/254\u001b[0m \u001b[32m━━━━━━━━━━━━━━━━━━━━\u001b[0m\u001b[37m\u001b[0m \u001b[1m1s\u001b[0m 3ms/step - accuracy: 0.9444 - loss: 0.1690 - val_accuracy: 0.9325 - val_loss: 0.1747\n",
            "Epoch 7/55\n",
            "\u001b[1m254/254\u001b[0m \u001b[32m━━━━━━━━━━━━━━━━━━━━\u001b[0m\u001b[37m\u001b[0m \u001b[1m1s\u001b[0m 3ms/step - accuracy: 0.9413 - loss: 0.1622 - val_accuracy: 0.8576 - val_loss: 0.3162\n",
            "Epoch 8/55\n",
            "\u001b[1m254/254\u001b[0m \u001b[32m━━━━━━━━━━━━━━━━━━━━\u001b[0m\u001b[37m\u001b[0m \u001b[1m1s\u001b[0m 3ms/step - accuracy: 0.9456 - loss: 0.1493 - val_accuracy: 0.9458 - val_loss: 0.1378\n",
            "Epoch 9/55\n",
            "\u001b[1m254/254\u001b[0m \u001b[32m━━━━━━━━━━━━━━━━━━━━\u001b[0m\u001b[37m\u001b[0m \u001b[1m1s\u001b[0m 3ms/step - accuracy: 0.9606 - loss: 0.1171 - val_accuracy: 0.9532 - val_loss: 0.1179\n",
            "Epoch 10/55\n",
            "\u001b[1m254/254\u001b[0m \u001b[32m━━━━━━━━━━━━━━━━━━━━\u001b[0m\u001b[37m\u001b[0m \u001b[1m1s\u001b[0m 3ms/step - accuracy: 0.9538 - loss: 0.1233 - val_accuracy: 0.9463 - val_loss: 0.1338\n",
            "Epoch 11/55\n",
            "\u001b[1m254/254\u001b[0m \u001b[32m━━━━━━━━━━━━━━━━━━━━\u001b[0m\u001b[37m\u001b[0m \u001b[1m2s\u001b[0m 4ms/step - accuracy: 0.9487 - loss: 0.1266 - val_accuracy: 0.9542 - val_loss: 0.1068\n",
            "Epoch 12/55\n",
            "\u001b[1m254/254\u001b[0m \u001b[32m━━━━━━━━━━━━━━━━━━━━\u001b[0m\u001b[37m\u001b[0m \u001b[1m1s\u001b[0m 5ms/step - accuracy: 0.9609 - loss: 0.1050 - val_accuracy: 0.9478 - val_loss: 0.1235\n",
            "Epoch 13/55\n",
            "\u001b[1m254/254\u001b[0m \u001b[32m━━━━━━━━━━━━━━━━━━━━\u001b[0m\u001b[37m\u001b[0m \u001b[1m2s\u001b[0m 6ms/step - accuracy: 0.9580 - loss: 0.1105 - val_accuracy: 0.9576 - val_loss: 0.1033\n",
            "Epoch 14/55\n",
            "\u001b[1m254/254\u001b[0m \u001b[32m━━━━━━━━━━━━━━━━━━━━\u001b[0m\u001b[37m\u001b[0m \u001b[1m2s\u001b[0m 3ms/step - accuracy: 0.9612 - loss: 0.1003 - val_accuracy: 0.9581 - val_loss: 0.1012\n",
            "Epoch 15/55\n",
            "\u001b[1m254/254\u001b[0m \u001b[32m━━━━━━━━━━━━━━━━━━━━\u001b[0m\u001b[37m\u001b[0m \u001b[1m1s\u001b[0m 3ms/step - accuracy: 0.9594 - loss: 0.0974 - val_accuracy: 0.9547 - val_loss: 0.1127\n",
            "Epoch 16/55\n",
            "\u001b[1m254/254\u001b[0m \u001b[32m━━━━━━━━━━━━━━━━━━━━\u001b[0m\u001b[37m\u001b[0m \u001b[1m1s\u001b[0m 5ms/step - accuracy: 0.9681 - loss: 0.0829 - val_accuracy: 0.9621 - val_loss: 0.0978\n",
            "Epoch 17/55\n",
            "\u001b[1m254/254\u001b[0m \u001b[32m━━━━━━━━━━━━━━━━━━━━\u001b[0m\u001b[37m\u001b[0m \u001b[1m3s\u001b[0m 7ms/step - accuracy: 0.9632 - loss: 0.0950 - val_accuracy: 0.9601 - val_loss: 0.0935\n",
            "Epoch 18/55\n",
            "\u001b[1m254/254\u001b[0m \u001b[32m━━━━━━━━━━━━━━━━━━━━\u001b[0m\u001b[37m\u001b[0m \u001b[1m3s\u001b[0m 7ms/step - accuracy: 0.9615 - loss: 0.1035 - val_accuracy: 0.9566 - val_loss: 0.1042\n",
            "Epoch 19/55\n",
            "\u001b[1m254/254\u001b[0m \u001b[32m━━━━━━━━━━━━━━━━━━━━\u001b[0m\u001b[37m\u001b[0m \u001b[1m2s\u001b[0m 9ms/step - accuracy: 0.9664 - loss: 0.0902 - val_accuracy: 0.9414 - val_loss: 0.1421\n",
            "Epoch 20/55\n",
            "\u001b[1m254/254\u001b[0m \u001b[32m━━━━━━━━━━━━━━━━━━━━\u001b[0m\u001b[37m\u001b[0m \u001b[1m2s\u001b[0m 8ms/step - accuracy: 0.9665 - loss: 0.0902 - val_accuracy: 0.9611 - val_loss: 0.0983\n",
            "Epoch 21/55\n",
            "\u001b[1m254/254\u001b[0m \u001b[32m━━━━━━━━━━━━━━━━━━━━\u001b[0m\u001b[37m\u001b[0m \u001b[1m2s\u001b[0m 6ms/step - accuracy: 0.9694 - loss: 0.0775 - val_accuracy: 0.9616 - val_loss: 0.0932\n",
            "Epoch 22/55\n",
            "\u001b[1m254/254\u001b[0m \u001b[32m━━━━━━━━━━━━━━━━━━━━\u001b[0m\u001b[37m\u001b[0m \u001b[1m2s\u001b[0m 6ms/step - accuracy: 0.9679 - loss: 0.0892 - val_accuracy: 0.9611 - val_loss: 0.1047\n",
            "Epoch 23/55\n",
            "\u001b[1m254/254\u001b[0m \u001b[32m━━━━━━━━━━━━━━━━━━━━\u001b[0m\u001b[37m\u001b[0m \u001b[1m3s\u001b[0m 7ms/step - accuracy: 0.9670 - loss: 0.0823 - val_accuracy: 0.9616 - val_loss: 0.0998\n",
            "Epoch 24/55\n",
            "\u001b[1m254/254\u001b[0m \u001b[32m━━━━━━━━━━━━━━━━━━━━\u001b[0m\u001b[37m\u001b[0m \u001b[1m3s\u001b[0m 11ms/step - accuracy: 0.9744 - loss: 0.0676 - val_accuracy: 0.9616 - val_loss: 0.0910\n",
            "Epoch 25/55\n",
            "\u001b[1m254/254\u001b[0m \u001b[32m━━━━━━━━━━━━━━━━━━━━\u001b[0m\u001b[37m\u001b[0m \u001b[1m3s\u001b[0m 10ms/step - accuracy: 0.9688 - loss: 0.0808 - val_accuracy: 0.9630 - val_loss: 0.0956\n",
            "Epoch 26/55\n",
            "\u001b[1m254/254\u001b[0m \u001b[32m━━━━━━━━━━━━━━━━━━━━\u001b[0m\u001b[37m\u001b[0m \u001b[1m5s\u001b[0m 9ms/step - accuracy: 0.9740 - loss: 0.0671 - val_accuracy: 0.9625 - val_loss: 0.0882\n",
            "Epoch 27/55\n",
            "\u001b[1m254/254\u001b[0m \u001b[32m━━━━━━━━━━━━━━━━━━━━\u001b[0m\u001b[37m\u001b[0m \u001b[1m2s\u001b[0m 7ms/step - accuracy: 0.9735 - loss: 0.0698 - val_accuracy: 0.9630 - val_loss: 0.0882\n",
            "Epoch 28/55\n",
            "\u001b[1m254/254\u001b[0m \u001b[32m━━━━━━━━━━━━━━━━━━━━\u001b[0m\u001b[37m\u001b[0m \u001b[1m2s\u001b[0m 5ms/step - accuracy: 0.9639 - loss: 0.0845 - val_accuracy: 0.9616 - val_loss: 0.0881\n",
            "Epoch 29/55\n",
            "\u001b[1m254/254\u001b[0m \u001b[32m━━━━━━━━━━━━━━━━━━━━\u001b[0m\u001b[37m\u001b[0m \u001b[1m2s\u001b[0m 4ms/step - accuracy: 0.9737 - loss: 0.0697 - val_accuracy: 0.9611 - val_loss: 0.0944\n",
            "Epoch 30/55\n",
            "\u001b[1m254/254\u001b[0m \u001b[32m━━━━━━━━━━━━━━━━━━━━\u001b[0m\u001b[37m\u001b[0m \u001b[1m1s\u001b[0m 3ms/step - accuracy: 0.9732 - loss: 0.0692 - val_accuracy: 0.9625 - val_loss: 0.0935\n",
            "Epoch 31/55\n",
            "\u001b[1m254/254\u001b[0m \u001b[32m━━━━━━━━━━━━━━━━━━━━\u001b[0m\u001b[37m\u001b[0m \u001b[1m1s\u001b[0m 3ms/step - accuracy: 0.9687 - loss: 0.0762 - val_accuracy: 0.9581 - val_loss: 0.1143\n",
            "Epoch 32/55\n",
            "\u001b[1m254/254\u001b[0m \u001b[32m━━━━━━━━━━━━━━━━━━━━\u001b[0m\u001b[37m\u001b[0m \u001b[1m1s\u001b[0m 3ms/step - accuracy: 0.9707 - loss: 0.0746 - val_accuracy: 0.9616 - val_loss: 0.0925\n",
            "Epoch 33/55\n",
            "\u001b[1m254/254\u001b[0m \u001b[32m━━━━━━━━━━━━━━━━━━━━\u001b[0m\u001b[37m\u001b[0m \u001b[1m2s\u001b[0m 5ms/step - accuracy: 0.9709 - loss: 0.0692 - val_accuracy: 0.9630 - val_loss: 0.0876\n",
            "Epoch 34/55\n",
            "\u001b[1m254/254\u001b[0m \u001b[32m━━━━━━━━━━━━━━━━━━━━\u001b[0m\u001b[37m\u001b[0m \u001b[1m1s\u001b[0m 5ms/step - accuracy: 0.9742 - loss: 0.0638 - val_accuracy: 0.9285 - val_loss: 0.1938\n",
            "Epoch 35/55\n",
            "\u001b[1m254/254\u001b[0m \u001b[32m━━━━━━━━━━━━━━━━━━━━\u001b[0m\u001b[37m\u001b[0m \u001b[1m1s\u001b[0m 5ms/step - accuracy: 0.9703 - loss: 0.0788 - val_accuracy: 0.9487 - val_loss: 0.1281\n",
            "Epoch 36/55\n",
            "\u001b[1m254/254\u001b[0m \u001b[32m━━━━━━━━━━━━━━━━━━━━\u001b[0m\u001b[37m\u001b[0m \u001b[1m2s\u001b[0m 3ms/step - accuracy: 0.9732 - loss: 0.0677 - val_accuracy: 0.9625 - val_loss: 0.0889\n",
            "Epoch 37/55\n",
            "\u001b[1m254/254\u001b[0m \u001b[32m━━━━━━━━━━━━━━━━━━━━\u001b[0m\u001b[37m\u001b[0m \u001b[1m1s\u001b[0m 4ms/step - accuracy: 0.9728 - loss: 0.0766 - val_accuracy: 0.9591 - val_loss: 0.1037\n",
            "Epoch 38/55\n",
            "\u001b[1m254/254\u001b[0m \u001b[32m━━━━━━━━━━━━━━━━━━━━\u001b[0m\u001b[37m\u001b[0m \u001b[1m1s\u001b[0m 4ms/step - accuracy: 0.9721 - loss: 0.0680 - val_accuracy: 0.9621 - val_loss: 0.0964\n",
            "Epoch 39/55\n",
            "\u001b[1m254/254\u001b[0m \u001b[32m━━━━━━━━━━━━━━━━━━━━\u001b[0m\u001b[37m\u001b[0m \u001b[1m1s\u001b[0m 4ms/step - accuracy: 0.9735 - loss: 0.0642 - val_accuracy: 0.9625 - val_loss: 0.0958\n",
            "Epoch 40/55\n",
            "\u001b[1m254/254\u001b[0m \u001b[32m━━━━━━━━━━━━━━━━━━━━\u001b[0m\u001b[37m\u001b[0m \u001b[1m1s\u001b[0m 4ms/step - accuracy: 0.9789 - loss: 0.0563 - val_accuracy: 0.9547 - val_loss: 0.1220\n",
            "Epoch 41/55\n",
            "\u001b[1m254/254\u001b[0m \u001b[32m━━━━━━━━━━━━━━━━━━━━\u001b[0m\u001b[37m\u001b[0m \u001b[1m1s\u001b[0m 4ms/step - accuracy: 0.9737 - loss: 0.0680 - val_accuracy: 0.9512 - val_loss: 0.1312\n",
            "Epoch 42/55\n",
            "\u001b[1m254/254\u001b[0m \u001b[32m━━━━━━━━━━━━━━━━━━━━\u001b[0m\u001b[37m\u001b[0m \u001b[1m1s\u001b[0m 4ms/step - accuracy: 0.9701 - loss: 0.0743 - val_accuracy: 0.9591 - val_loss: 0.1093\n",
            "Epoch 43/55\n",
            "\u001b[1m254/254\u001b[0m \u001b[32m━━━━━━━━━━━━━━━━━━━━\u001b[0m\u001b[37m\u001b[0m \u001b[1m1s\u001b[0m 5ms/step - accuracy: 0.9764 - loss: 0.0562 - val_accuracy: 0.9665 - val_loss: 0.0909\n",
            "Epoch 44/55\n",
            "\u001b[1m254/254\u001b[0m \u001b[32m━━━━━━━━━━━━━━━━━━━━\u001b[0m\u001b[37m\u001b[0m \u001b[1m1s\u001b[0m 5ms/step - accuracy: 0.9768 - loss: 0.0604 - val_accuracy: 0.9492 - val_loss: 0.1334\n",
            "Epoch 45/55\n",
            "\u001b[1m254/254\u001b[0m \u001b[32m━━━━━━━━━━━━━━━━━━━━\u001b[0m\u001b[37m\u001b[0m \u001b[1m1s\u001b[0m 5ms/step - accuracy: 0.9743 - loss: 0.0672 - val_accuracy: 0.9478 - val_loss: 0.1342\n",
            "Epoch 46/55\n",
            "\u001b[1m254/254\u001b[0m \u001b[32m━━━━━━━━━━━━━━━━━━━━\u001b[0m\u001b[37m\u001b[0m \u001b[1m1s\u001b[0m 4ms/step - accuracy: 0.9726 - loss: 0.0710 - val_accuracy: 0.9556 - val_loss: 0.1155\n",
            "Epoch 47/55\n",
            "\u001b[1m254/254\u001b[0m \u001b[32m━━━━━━━━━━━━━━━━━━━━\u001b[0m\u001b[37m\u001b[0m \u001b[1m1s\u001b[0m 3ms/step - accuracy: 0.9774 - loss: 0.0621 - val_accuracy: 0.9566 - val_loss: 0.1158\n",
            "Epoch 48/55\n",
            "\u001b[1m254/254\u001b[0m \u001b[32m━━━━━━━━━━━━━━━━━━━━\u001b[0m\u001b[37m\u001b[0m \u001b[1m1s\u001b[0m 3ms/step - accuracy: 0.9690 - loss: 0.0739 - val_accuracy: 0.9640 - val_loss: 0.0892\n",
            "Epoch 49/55\n",
            "\u001b[1m254/254\u001b[0m \u001b[32m━━━━━━━━━━━━━━━━━━━━\u001b[0m\u001b[37m\u001b[0m \u001b[1m1s\u001b[0m 3ms/step - accuracy: 0.9777 - loss: 0.0583 - val_accuracy: 0.9665 - val_loss: 0.0908\n",
            "Epoch 50/55\n",
            "\u001b[1m254/254\u001b[0m \u001b[32m━━━━━━━━━━━━━━━━━━━━\u001b[0m\u001b[37m\u001b[0m \u001b[1m1s\u001b[0m 3ms/step - accuracy: 0.9769 - loss: 0.0634 - val_accuracy: 0.9591 - val_loss: 0.1016\n",
            "Epoch 51/55\n",
            "\u001b[1m254/254\u001b[0m \u001b[32m━━━━━━━━━━━━━━━━━━━━\u001b[0m\u001b[37m\u001b[0m \u001b[1m1s\u001b[0m 4ms/step - accuracy: 0.9695 - loss: 0.0744 - val_accuracy: 0.9571 - val_loss: 0.1099\n",
            "Epoch 52/55\n",
            "\u001b[1m254/254\u001b[0m \u001b[32m━━━━━━━━━━━━━━━━━━━━\u001b[0m\u001b[37m\u001b[0m \u001b[1m1s\u001b[0m 3ms/step - accuracy: 0.9738 - loss: 0.0611 - val_accuracy: 0.9616 - val_loss: 0.1017\n",
            "Epoch 53/55\n",
            "\u001b[1m254/254\u001b[0m \u001b[32m━━━━━━━━━━━━━━━━━━━━\u001b[0m\u001b[37m\u001b[0m \u001b[1m1s\u001b[0m 3ms/step - accuracy: 0.9780 - loss: 0.0554 - val_accuracy: 0.9665 - val_loss: 0.0921\n",
            "Epoch 54/55\n",
            "\u001b[1m254/254\u001b[0m \u001b[32m━━━━━━━━━━━━━━━━━━━━\u001b[0m\u001b[37m\u001b[0m \u001b[1m1s\u001b[0m 3ms/step - accuracy: 0.9774 - loss: 0.0586 - val_accuracy: 0.9473 - val_loss: 0.1412\n",
            "Epoch 55/55\n",
            "\u001b[1m254/254\u001b[0m \u001b[32m━━━━━━━━━━━━━━━━━━━━\u001b[0m\u001b[37m\u001b[0m \u001b[1m1s\u001b[0m 3ms/step - accuracy: 0.9709 - loss: 0.0747 - val_accuracy: 0.9665 - val_loss: 0.0930\n"
          ]
        }
      ]
    },
    {
      "cell_type": "code",
      "source": [
        "# Evaluate the model\n",
        "loss, accuracy = model.evaluate(validation_padded, np.array(validation_labels_numerical))  # Use validation_labels_numerical\n",
        "print(f\"Validation Loss: {loss}\")\n",
        "print(f\"Validation Accuracy: {accuracy}\")"
      ],
      "metadata": {
        "colab": {
          "base_uri": "https://localhost:8080/"
        },
        "id": "Fx70yaPmLR8j",
        "outputId": "ec8a1656-7d8e-4321-f3ae-e810b9ad0e80"
      },
      "execution_count": null,
      "outputs": [
        {
          "output_type": "stream",
          "name": "stdout",
          "text": [
            "\u001b[1m64/64\u001b[0m \u001b[32m━━━━━━━━━━━━━━━━━━━━\u001b[0m\u001b[37m\u001b[0m \u001b[1m0s\u001b[0m 3ms/step - accuracy: 0.9688 - loss: 0.0832\n",
            "Validation Loss: 0.09298909455537796\n",
            "Validation Accuracy: 0.9664859771728516\n"
          ]
        }
      ]
    },
    {
      "cell_type": "code",
      "source": [
        "def plot_graphs(history, string):\n",
        "  plt.plot(history.history[string])\n",
        "  plt.plot(history.history['val_'+string])\n",
        "  plt.xlabel(\"Epochs\")\n",
        "  plt.ylabel(string)\n",
        "  plt.legend([string, 'val_'+string])\n",
        "  plt.show()\n",
        "\n",
        "plot_graphs(history, \"accuracy\")\n",
        "plot_graphs(history, \"loss\")"
      ],
      "metadata": {
        "colab": {
          "base_uri": "https://localhost:8080/",
          "height": 881
        },
        "id": "jqSemj2JNRx2",
        "outputId": "e6ca5ea8-dce5-49ad-87ef-cb8dffbb6b46"
      },
      "execution_count": null,
      "outputs": [
        {
          "output_type": "display_data",
          "data": {
            "text/plain": [
              "<Figure size 640x480 with 1 Axes>"
            ],
            "image/png": "[encoded data removed]"
          },
          "metadata": {}
        },
        {
          "output_type": "display_data",
          "data": {
            "text/plain": [
              "<Figure size 640x480 with 1 Axes>"
            ],
            "image/png": "[encoded data removed]"
          },
          "metadata": {}
        }
      ]
    },
    {
      "cell_type": "code",
      "source": [
        "from sklearn.metrics import confusion_matrix\n",
        "import seaborn as sns\n",
        "\n",
        "# Make predictions on the validation data\n",
        "predictions = model.predict(validation_padded)\n",
        "predicted_labels = (predictions > 0.5).astype(int) # Convert probabilities to binary labels\n",
        "\n",
        "# Use validation_labels_numerical instead of validation_label_seq\n",
        "cm = confusion_matrix(validation_labels_numerical, predicted_labels)\n",
        "\n",
        "# Plot the confusion matrix using seaborn\n",
        "plt.figure(figsize=(8, 6))\n",
        "sns.heatmap(cm, annot=True, fmt='d', cmap='Blues',\n",
        "            xticklabels=['Predicted Negative', 'Predicted Positive'],\n",
        "            yticklabels=['Actual Negative', 'Actual Positive'])\n",
        "plt.title('Confusion Matrix')\n",
        "plt.xlabel('Predicted Label')\n",
        "plt.ylabel('True Label')\n",
        "plt.show()"
      ],
      "metadata": {
        "colab": {
          "base_uri": "https://localhost:8080/",
          "height": 581
        },
        "id": "p-fTAekzNTrL",
        "outputId": "c4444dc8-0637-4bdd-a6ef-52c140bf41fb"
      },
      "execution_count": null,
      "outputs": [
        {
          "output_type": "stream",
          "name": "stdout",
          "text": [
            "\u001b[1m64/64\u001b[0m \u001b[32m━━━━━━━━━━━━━━━━━━━━\u001b[0m\u001b[37m\u001b[0m \u001b[1m0s\u001b[0m 4ms/step\n"
          ]
        },
        {
          "output_type": "display_data",
          "data": {
            "text/plain": [
              "<Figure size 800x600 with 2 Axes>"
            ],
            "image/png": "[encoded data removed]"
          },
          "metadata": {}
        }
      ]
    },
    {
      "cell_type": "code",
      "source": [
        "from sklearn.metrics import accuracy_score, classification_report\n",
        "\n",
        "# Use validation_labels_numerical instead of the undefined validation_label_seq\n",
        "accuracy = accuracy_score(validation_labels_numerical, predicted_labels)\n",
        "print(f\"Accuracy: {accuracy}\")\n",
        "\n",
        "# Generate classification report\n",
        "print(classification_report(validation_labels_numerical, predicted_labels))"
      ],
      "metadata": {
        "colab": {
          "base_uri": "https://localhost:8080/"
        },
        "id": "nI2HuTtzM-4Z",
        "outputId": "adf76cb0-3f2b-4b55-a189-a930d68fd4a6"
      },
      "execution_count": null,
      "outputs": [
        {
          "output_type": "stream",
          "name": "stdout",
          "text": [
            "Accuracy: 0.9664859536717595\n",
            "              precision    recall  f1-score   support\n",
            "\n",
            "           0       0.98      0.96      0.97      1037\n",
            "           1       0.96      0.98      0.97       992\n",
            "\n",
            "    accuracy                           0.97      2029\n",
            "   macro avg       0.97      0.97      0.97      2029\n",
            "weighted avg       0.97      0.97      0.97      2029\n",
            "\n"
          ]
        }
      ]
    },
    {
      "cell_type": "code",
      "source": [
        "print(validation_sentences[0])\n",
        "print(validation_labels[0])\n",
        "print(validation_labels_numerical[0])  # Change this line\n",
        "validation_padded[0]"
      ],
      "metadata": {
        "colab": {
          "base_uri": "https://localhost:8080/"
        },
        "id": "jjRNYQNgLHcR",
        "outputId": "ebf75066-6d1f-4c3a-87b9-139998cfd698"
      },
      "execution_count": null,
      "outputs": [
        {
          "output_type": "stream",
          "name": "stdout",
          "text": [
            "pekerjaanmu kali memuaskan benarbenar mengerjakannya penuh perhatian\n",
            "positif\n",
            "1\n"
          ]
        },
        {
          "output_type": "execute_result",
          "data": {
            "text/plain": [
              "array([ 33,   7,  52,  58, 157,  48,  32,   0,   0,   0,   0,   0,   0,\n",
              "         0,   0,   0,   0,   0,   0,   0,   0,   0,   0,   0,   0,   0,\n",
              "         0,   0,   0,   0,   0,   0,   0,   0,   0,   0,   0,   0,   0,\n",
              "         0,   0,   0,   0,   0,   0,   0,   0,   0,   0,   0,   0,   0,\n",
              "         0,   0,   0,   0,   0,   0,   0,   0,   0,   0,   0,   0,   0,\n",
              "         0,   0,   0,   0,   0,   0,   0,   0,   0,   0,   0,   0,   0,\n",
              "         0,   0,   0,   0,   0,   0,   0,   0,   0,   0,   0,   0,   0,\n",
              "         0,   0,   0,   0,   0,   0,   0,   0,   0], dtype=int32)"
            ]
          },
          "metadata": {},
          "execution_count": 22
        }
      ]
    },
    {
      "cell_type": "markdown",
      "source": [
        "### Prediction Model"
      ],
      "metadata": {
        "id": "Pv3zC-nEqqbE"
      }
    },
    {
      "cell_type": "code",
      "source": [
        "text = [\"memuaskan\"]\n",
        "\n",
        "def inference(text):\n",
        "  inference_sequences = tokenizer.texts_to_sequences(text)\n",
        "  inference_padded = pad_sequences(inference_sequences, padding=padding_type, maxlen=max_length)\n",
        "  return inference_padded\n",
        "\n",
        "result = model.predict(inference(text))\n",
        "\n",
        "print(f\"Prediction Probability: {result[0][0]}\")"
      ],
      "metadata": {
        "colab": {
          "base_uri": "https://localhost:8080/"
        },
        "id": "EEnU1sGxMY48",
        "outputId": "e068b32b-ac38-4d59-8a69-8812c29ebe8b"
      },
      "execution_count": null,
      "outputs": [
        {
          "output_type": "stream",
          "name": "stdout",
          "text": [
            "\u001b[1m1/1\u001b[0m \u001b[32m━━━━━━━━━━━━━━━━━━━━\u001b[0m\u001b[37m\u001b[0m \u001b[1m0s\u001b[0m 30ms/step\n",
            "Prediction Probability: 0.9812098145484924\n"
          ]
        }
      ]
    },
    {
      "cell_type": "markdown",
      "source": [
        "### Save Model"
      ],
      "metadata": {
        "id": "YAuDWuBfMkzF"
      }
    },
    {
      "cell_type": "code",
      "source": [
        "model.save('sentiment_analysis_model.h5')"
      ],
      "metadata": {
        "colab": {
          "base_uri": "https://localhost:8080/"
        },
        "id": "ix9ijsvsMmO7",
        "outputId": "afb43036-e332-4736-d133-603df37373e9"
      },
      "execution_count": null,
      "outputs": [
        {
          "output_type": "stream",
          "name": "stderr",
          "text": [
            "WARNING:absl:You are saving your model as an HDF5 file via `model.save()` or `keras.saving.save_model(model)`. This file format is considered legacy. We recommend using instead the native Keras format, e.g. `model.save('my_model.keras')` or `keras.saving.save_model(model, 'my_model.keras')`. \n"
          ]
        }
      ]
    },
    {
      "cell_type": "markdown",
      "source": [
        "### Load Model"
      ],
      "metadata": {
        "id": "vsr4I5tvrzqr"
      }
    },
    {
      "cell_type": "code",
      "source": [
        "model = load_model('sentiment_analysis_model.h5')"
      ],
      "metadata": {
        "colab": {
          "base_uri": "https://localhost:8080/"
        },
        "id": "V08yaAanMsJn",
        "outputId": "217837f7-649a-4e88-83d5-271b58ff0bf4"
      },
      "execution_count": null,
      "outputs": [
        {
          "output_type": "stream",
          "name": "stderr",
          "text": [
            "WARNING:absl:Compiled the loaded model, but the compiled metrics have yet to be built. `model.compile_metrics` will be empty until you train or evaluate the model.\n"
          ]
        }
      ]
    },
    {
      "cell_type": "markdown",
      "source": [
        "### Prediction"
      ],
      "metadata": {
        "id": "ZtTEjf4dr6cz"
      }
    },
    {
      "cell_type": "code",
      "source": [
        "def predict_sentiment(text):\n",
        "    \"\"\"Predicts the sentiment of a given text.\n",
        "\n",
        "    Args:\n",
        "        text: A list containing the text to analyze.\n",
        "\n",
        "    Returns:\n",
        "        A string containing the predicted sentiment (\"positif\" or \"negatif\").\n",
        "    \"\"\"\n",
        "    # Convert text into sequence of integers\n",
        "    inference_sequences = tokenizer.texts_to_sequences(text)\n",
        "\n",
        "    # Padding sequences to ensure uniform length\n",
        "    inference_padded = pad_sequences(inference_sequences, padding=padding_type, maxlen=max_length)\n",
        "\n",
        "    # Get prediction probabilities from the model\n",
        "    result = model.predict(inference_padded)\n",
        "\n",
        "    # Predicted label: \"positif\" if the probability of positive class is > 0.5, else \"negatif\"\n",
        "    predicted_sentiment = \"positif\" if result[0][0] > 0.5 else \"negatif\"\n",
        "\n",
        "    return predicted_sentiment"
      ],
      "metadata": {
        "colab": {
          "base_uri": "https://localhost:8080/"
        },
        "id": "sT5V5okUNyWB",
        "outputId": "e043692a-d5a7-4ce5-c5bf-aeb10cfeef96"
      },
      "execution_count": null,
      "outputs": [
        {
          "output_type": "stream",
          "name": "stdout",
          "text": [
            "\u001b[1m1/1\u001b[0m \u001b[32m━━━━━━━━━━━━━━━━━━━━\u001b[0m\u001b[37m\u001b[0m \u001b[1m0s\u001b[0m 125ms/step\n",
            "Text: Rata-rata nilai UAS sudah cukup baik, tapi masih ada beberapa bagian yang bisa ditingkatkan. Terus belajar dan berlatih, hasil yang lebih baik pasti bisa diraih!\n",
            "Prediction: negatif\n"
          ]
        }
      ]
    },
    {
      "cell_type": "code",
      "source": [
        "# Example usage\n",
        "text_to_predict = [\"Rata-rata nilai UAS sudah cukup baik, tapi masih ada beberapa bagian yang bisa ditingkatkan. Terus belajar dan berlatih, hasil yang lebih baik pasti bisa diraih!\"]\n",
        "predictions = []\n",
        "\n",
        "# Loop over the input texts and predict sentiment for each one\n",
        "for text in text_to_predict:\n",
        "    prediction = predict_sentiment([text])  # predict_sentiment expects a list of texts\n",
        "    predictions.append(prediction)\n",
        "\n",
        "# Print out the results\n",
        "for i, text in enumerate(text_to_predict):\n",
        "    print(f\"Text: {text}\")\n",
        "    print(f\"Prediction: {predictions[i]}\")"
      ],
      "metadata": {
        "id": "t8KcFNDxn5yC",
        "outputId": "0dc47661-abd4-4f86-c99c-32eb43d31d1e",
        "colab": {
          "base_uri": "https://localhost:8080/"
        }
      },
      "execution_count": null,
      "outputs": [
        {
          "output_type": "stream",
          "name": "stdout",
          "text": [
            "\u001b[1m1/1\u001b[0m \u001b[32m━━━━━━━━━━━━━━━━━━━━\u001b[0m\u001b[37m\u001b[0m \u001b[1m0s\u001b[0m 32ms/step\n",
            "Text: Rata-rata nilai UAS sudah cukup baik, tapi masih ada beberapa bagian yang bisa ditingkatkan. Terus belajar dan berlatih, hasil yang lebih baik pasti bisa diraih!\n",
            "Prediction: negatif\n"
          ]
        }
      ]
    },
    {
      "cell_type": "markdown",
      "source": [
        "### Load Model"
      ],
      "metadata": {
        "id": "PMxzHnYOt1JQ"
      }
    },
    {
      "cell_type": "code",
      "source": [
        "from tensorflow.keras.models import load_model\n",
        "\n",
        "model = load_model('sentiment_analysis_model.h5')"
      ],
      "metadata": {
        "colab": {
          "base_uri": "https://localhost:8080/"
        },
        "id": "7k1CTP6tt3q2",
        "outputId": "fc5f83a5-fc43-4456-9641-f327f015b8d2"
      },
      "execution_count": null,
      "outputs": [
        {
          "output_type": "stream",
          "name": "stderr",
          "text": [
            "WARNING:absl:Compiled the loaded model, but the compiled metrics have yet to be built. `model.compile_metrics` will be empty until you train or evaluate the model.\n"
          ]
        }
      ]
    },
    {
      "cell_type": "markdown",
      "source": [
        "### Predicted Model"
      ],
      "metadata": {
        "id": "_Bsso2lut6vc"
      }
    },
    {
      "cell_type": "code",
      "source": [
        "import warnings\n",
        "warnings.filterwarnings(\"ignore\", category=DeprecationWarning)"
      ],
      "metadata": {
        "id": "nGwJIUidl59B"
      },
      "execution_count": null,
      "outputs": []
    },
    {
      "cell_type": "code",
      "source": [
        "import pickle\n",
        "from tensorflow.keras.models import load_model\n",
        "from tensorflow.keras.preprocessing.sequence import pad_sequences\n",
        "\n",
        "# Load the saved model\n",
        "model = load_model('sentiment_analysis_model.h5')\n",
        "\n",
        "# Load the tokenizer\n",
        "with open('tokenizer.pkl', 'rb') as handle:\n",
        "    tokenizer = pickle.load(handle)\n",
        "\n",
        "padding_type = \"post\"\n",
        "max_length = 100\n",
        "\n",
        "def predict_sentiment(text):\n",
        "    \"\"\"Predicts the sentiment of a given text.\n",
        "\n",
        "    Args:\n",
        "        text: A list containing the text to analyze.\n",
        "\n",
        "    Returns:\n",
        "        A string containing the predicted sentiment (\"positif\" or \"negatif\").\n",
        "    \"\"\"\n",
        "    inference_sequences = tokenizer.texts_to_sequences(text)\n",
        "    inference_padded = pad_sequences(inference_sequences, padding=padding_type, maxlen=max_length)\n",
        "    result = model.predict(inference_padded)\n",
        "    predicted_sentiment = \"positif\" if result[0][0] > 0.5 else \"negatif\"\n",
        "    return predicted_sentiment\n",
        "\n",
        "# Example usage\n",
        "text_to_predict = [\"Rata-rata nilai UAS sudah cukup baik, tapi masih ada beberapa bagian yang bisa ditingkatkan. Terus belajar dan berlatih, hasil yang lebih baik pasti bisa diraih!\"]\n",
        "for text in text_to_predict:\n",
        "    prediction = predict_sentiment([text])\n",
        "    print(f\"Text: {text}\")\n",
        "    print(f\"Prediction: {prediction}\")"
      ],
      "metadata": {
        "colab": {
          "base_uri": "https://localhost:8080/"
        },
        "id": "r0XnzSwHt6SI",
        "outputId": "9325e3ac-42cf-4310-fadc-84fd85cce59f"
      },
      "execution_count": null,
      "outputs": [
        {
          "output_type": "stream",
          "name": "stderr",
          "text": [
            "WARNING:absl:Compiled the loaded model, but the compiled metrics have yet to be built. `model.compile_metrics` will be empty until you train or evaluate the model.\n"
          ]
        },
        {
          "output_type": "stream",
          "name": "stdout",
          "text": [
            "\u001b[1m1/1\u001b[0m \u001b[32m━━━━━━━━━━━━━━━━━━━━\u001b[0m\u001b[37m\u001b[0m \u001b[1m0s\u001b[0m 70ms/step\n",
            "Text: Rata-rata nilai UAS sudah cukup baik, tapi masih ada beberapa bagian yang bisa ditingkatkan. Terus belajar dan berlatih, hasil yang lebih baik pasti bisa diraih!\n",
            "Prediction: negatif\n"
          ]
        }
      ]
    }
  ]
}